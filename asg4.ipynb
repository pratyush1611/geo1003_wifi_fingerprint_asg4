{
 "metadata": {
  "language_info": {
   "codemirror_mode": {
    "name": "ipython",
    "version": 3
   },
   "file_extension": ".py",
   "mimetype": "text/x-python",
   "name": "python",
   "nbconvert_exporter": "python",
   "pygments_lexer": "ipython3",
   "version": "3.8.2-final"
  },
  "orig_nbformat": 2,
  "kernelspec": {
   "name": "python3",
   "display_name": "Python 3",
   "language": "python"
  }
 },
 "nbformat": 4,
 "nbformat_minor": 2,
 "cells": [
  {
   "source": [
    "# AIM: to analyse wifi datasetsfor assignment 4, GEO1003"
   ],
   "cell_type": "markdown",
   "metadata": {}
  },
  {
   "source": [
    "## imports:\n",
    "- pandas\n",
    "- os\n",
    "- sklearn\n",
    "- numpy\n",
    "- scipy\n"
   ],
   "cell_type": "markdown",
   "metadata": {}
  },
  {
   "cell_type": "code",
   "execution_count": 450,
   "metadata": {},
   "outputs": [],
   "source": [
    "import pandas as pd\n",
    "# pd.set_option('display.max_rows', 500)\n",
    "pd.set_option('display.max_columns', 50)\n",
    "import os\n",
    "import numpy as np\n",
    "from scipy import stats"
   ]
  },
  {
   "cell_type": "code",
   "execution_count": 2,
   "metadata": {},
   "outputs": [
    {
     "output_type": "execute_result",
     "data": {
      "text/plain": [
       "['[01.Oost.330]Access Point Log 2020-12-02 17-30-02.txt',\n",
       " '[01.Oost.560].txt',\n",
       " '[01.West.430] Access Point Log 2020-12-02 17-56-25.txt',\n",
       " '[02.Oost.010] Access Point Log 2020-12-02 17-23-18.txt',\n",
       " '[02.Oost.470].txt',\n",
       " '[02.Oost.500]15min.txt',\n",
       " '[02.Oost.700].txt',\n",
       " '[02.West.200] Access Point Log 2020-12-02 17-56-02.txt',\n",
       " '[@-hoc]_02-12-20_1622.txt',\n",
       " '[A]Access Point Log 2020-12-02 16-47-14.txt',\n",
       " '[Berlage-gang]15min.txt',\n",
       " '[Berlage]15min.txt',\n",
       " '[BG.Oost.430].txt',\n",
       " '[BG.West.030]_2020-12-07.txt',\n",
       " '[C]Access Point Log 2020-12-02 17-18-31.txt',\n",
       " '[Expo upstairs]_Access Point Log 2020-12-02 15-56-05.txt',\n",
       " '[F]Access Point Log 2020-12-02 16-32-26.txt',\n",
       " '[Geolab]_2020-12-07.txt',\n",
       " '[K1.Ooost.250]_2020-12-07.txt',\n",
       " '[OostSerre]_2020-12-07.txt',\n",
       " '[Our workroom]_Access Point Log 2020-12-02 15-12-48.txt',\n",
       " '[Room 1].txt',\n",
       " '[Room D].txt',\n",
       " '[Room R].txt',\n",
       " '[Stairs coffee]_Access Point Log 2020-12-02 16-49-53_BK2.txt',\n",
       " '[Stairs red]_Access Point Log 2020-12-02 17-07-56_BK2.txt',\n",
       " '[Stylos]_02-12-20_1618.txt',\n",
       " '[T]Access Point Log 2020-12-02 16-25-08.txt',\n",
       " '[U]Access Point Log 2020-12-02 16-23-15.txt',\n",
       " '[WalrtmanBouwshop]_02-12-20_1601.txt',\n",
       " '[WestCoffeeRoom]_02-12-20_1637.txt',\n",
       " '[X]Access Point Log 2020-12-02 17-01-33.txt',\n",
       " '[Z]Access Point Log 2020-12-02 16-57-25.txt']"
      ]
     },
     "metadata": {},
     "execution_count": 2
    }
   ],
   "source": [
    "filepath = './15min/'\n",
    "filelist = os.listdir(filepath)\n",
    "filelist"
   ]
  },
  {
   "cell_type": "code",
   "execution_count": 3,
   "metadata": {},
   "outputs": [],
   "source": [
    "def dfinator(path):\n",
    "    nmlist = ['time', 'macID','vendor','access_pt','signal','idk','idk_2','freq','station_info','specs']\n",
    "    filelist = os.listdir(path)\n",
    "    megadf = pd.DataFrame(columns=nmlist)\n",
    "    for file_ in filelist:\n",
    "        df = pd.read_csv(os.path.join(path,file_)  , delimiter='\\t', names=nmlist)\n",
    "        df['room'] = str(file_.split(']')[0])[1:]\n",
    "        # df.time = pd.to_datetime(df.time)\n",
    "        megadf=megadf.append(df, ignore_index=True)\n",
    "    return megadf"
   ]
  },
  {
   "cell_type": "code",
   "execution_count": 4,
   "metadata": {},
   "outputs": [],
   "source": [
    "mega = dfinator(filepath)"
   ]
  },
  {
   "source": [
    "### number of unique MAC ID in total dataset"
   ],
   "cell_type": "markdown",
   "metadata": {}
  },
  {
   "cell_type": "code",
   "execution_count": 5,
   "metadata": {},
   "outputs": [
    {
     "output_type": "execute_result",
     "data": {
      "text/plain": [
       "347"
      ]
     },
     "metadata": {},
     "execution_count": 5
    }
   ],
   "source": [
    "eduroam_df = mega[mega['access_pt']=='eduroam']\n",
    "eduroam_df.reset_index(inplace=True)\n",
    "eduroam_df.drop('index', axis=1 , inplace=True)\n",
    "eduroam_df.head(15)\n",
    "len(eduroam_df.macID.unique())"
   ]
  },
  {
   "source": [
    "## Rooms sampled by our group\n",
    "\n",
    "01oost560 <br>\n",
    "01west430 <br>\n",
    "02oost010 <br>\n",
    "02west200\n",
    "\n",
    "\n"
   ],
   "cell_type": "markdown",
   "metadata": {}
  },
  {
   "cell_type": "code",
   "execution_count": 6,
   "metadata": {},
   "outputs": [
    {
     "output_type": "execute_result",
     "data": {
      "text/plain": [
       "                      time              macID              vendor access_pt  \\\n",
       "0       9-12-2020 14:33:40  00:3A:7D:34:E8:BF                 NaN   eduroam   \n",
       "1       9-12-2020 14:33:40  84:3D:C6:AD:80:6F                 NaN   eduroam   \n",
       "2       9-12-2020 14:33:40  00:3A:7D:27:BA:3F                 NaN   eduroam   \n",
       "3       9-12-2020 14:33:40  84:3D:C6:C7:C2:0F                 NaN   eduroam   \n",
       "4       9-12-2020 14:33:40  00:3A:7D:12:45:2F                 NaN   eduroam   \n",
       "...                    ...                ...                 ...       ...   \n",
       "25704  02-12-2020 17:39:48  84:3D:C6:C7:C3:F0  Cisco Systems Inc.   eduroam   \n",
       "25705  02-12-2020 17:39:48  00:3A:7D:1E:DF:3F  Cisco Systems Inc.   eduroam   \n",
       "25706  02-12-2020 17:39:48  00:3A:7D:1E:DF:30  Cisco Systems Inc.   eduroam   \n",
       "25707  02-12-2020 17:39:48  84:3D:C6:B9:29:80  Cisco Systems Inc.   eduroam   \n",
       "25708  02-12-2020 17:39:48  84:3D:C6:B9:25:0F  Cisco Systems Inc.   eduroam   \n",
       "\n",
       "      signal idk idk_2                freq station_info  \\\n",
       "0        -74  47   NaN  Ch 132 [5.660 GHz]   8 Stations   \n",
       "1        -61  67   NaN  Ch 116 [5.580 GHz]  10 Stations   \n",
       "2        -71  51   NaN  Ch 108 [5.540 GHz]   4 Stations   \n",
       "3        -81  36   NaN   Ch 64 [5.320 GHz]   7 Stations   \n",
       "4        -80  37   NaN   Ch 60 [5.300 GHz]   0 Stations   \n",
       "...      ...  ..   ...                 ...          ...   \n",
       "25704    -79  35   NaN   Ch 11 [2.462 GHz]   0 Stations   \n",
       "25705    -46  90   NaN   Ch 64 [5.320 GHz]   2 Stations   \n",
       "25706    -45  91   NaN   Ch 11 [2.462 GHz]   0 Stations   \n",
       "25707    -74  43   NaN   Ch 11 [2.462 GHz]    1 Station   \n",
       "25708    -82  30   NaN  Ch 100 [5.500 GHz]   0 Stations   \n",
       "\n",
       "                                                   specs         room  \n",
       "0      Wi-Fi [Marvell AVASTAR Wireless-AC Network Con...  01.Oost.560  \n",
       "1      Wi-Fi [Marvell AVASTAR Wireless-AC Network Con...  01.Oost.560  \n",
       "2      Wi-Fi [Marvell AVASTAR Wireless-AC Network Con...  01.Oost.560  \n",
       "3      Wi-Fi [Marvell AVASTAR Wireless-AC Network Con...  01.Oost.560  \n",
       "4      Wi-Fi [Marvell AVASTAR Wireless-AC Network Con...  01.Oost.560  \n",
       "...                                                  ...          ...  \n",
       "25704        Wi-Fi [Intel(R) Dual Band Wireless-AC 3165]  02.Oost.010  \n",
       "25705        Wi-Fi [Intel(R) Dual Band Wireless-AC 3165]  02.Oost.010  \n",
       "25706        Wi-Fi [Intel(R) Dual Band Wireless-AC 3165]  02.Oost.010  \n",
       "25707        Wi-Fi [Intel(R) Dual Band Wireless-AC 3165]  02.Oost.010  \n",
       "25708        Wi-Fi [Intel(R) Dual Band Wireless-AC 3165]  02.Oost.010  \n",
       "\n",
       "[25709 rows x 11 columns]"
      ],
      "text/html": "<div>\n<style scoped>\n    .dataframe tbody tr th:only-of-type {\n        vertical-align: middle;\n    }\n\n    .dataframe tbody tr th {\n        vertical-align: top;\n    }\n\n    .dataframe thead th {\n        text-align: right;\n    }\n</style>\n<table border=\"1\" class=\"dataframe\">\n  <thead>\n    <tr style=\"text-align: right;\">\n      <th></th>\n      <th>time</th>\n      <th>macID</th>\n      <th>vendor</th>\n      <th>access_pt</th>\n      <th>signal</th>\n      <th>idk</th>\n      <th>idk_2</th>\n      <th>freq</th>\n      <th>station_info</th>\n      <th>specs</th>\n      <th>room</th>\n    </tr>\n  </thead>\n  <tbody>\n    <tr>\n      <th>0</th>\n      <td>9-12-2020 14:33:40</td>\n      <td>00:3A:7D:34:E8:BF</td>\n      <td>NaN</td>\n      <td>eduroam</td>\n      <td>-74</td>\n      <td>47</td>\n      <td>NaN</td>\n      <td>Ch 132 [5.660 GHz]</td>\n      <td>8 Stations</td>\n      <td>Wi-Fi [Marvell AVASTAR Wireless-AC Network Con...</td>\n      <td>01.Oost.560</td>\n    </tr>\n    <tr>\n      <th>1</th>\n      <td>9-12-2020 14:33:40</td>\n      <td>84:3D:C6:AD:80:6F</td>\n      <td>NaN</td>\n      <td>eduroam</td>\n      <td>-61</td>\n      <td>67</td>\n      <td>NaN</td>\n      <td>Ch 116 [5.580 GHz]</td>\n      <td>10 Stations</td>\n      <td>Wi-Fi [Marvell AVASTAR Wireless-AC Network Con...</td>\n      <td>01.Oost.560</td>\n    </tr>\n    <tr>\n      <th>2</th>\n      <td>9-12-2020 14:33:40</td>\n      <td>00:3A:7D:27:BA:3F</td>\n      <td>NaN</td>\n      <td>eduroam</td>\n      <td>-71</td>\n      <td>51</td>\n      <td>NaN</td>\n      <td>Ch 108 [5.540 GHz]</td>\n      <td>4 Stations</td>\n      <td>Wi-Fi [Marvell AVASTAR Wireless-AC Network Con...</td>\n      <td>01.Oost.560</td>\n    </tr>\n    <tr>\n      <th>3</th>\n      <td>9-12-2020 14:33:40</td>\n      <td>84:3D:C6:C7:C2:0F</td>\n      <td>NaN</td>\n      <td>eduroam</td>\n      <td>-81</td>\n      <td>36</td>\n      <td>NaN</td>\n      <td>Ch 64 [5.320 GHz]</td>\n      <td>7 Stations</td>\n      <td>Wi-Fi [Marvell AVASTAR Wireless-AC Network Con...</td>\n      <td>01.Oost.560</td>\n    </tr>\n    <tr>\n      <th>4</th>\n      <td>9-12-2020 14:33:40</td>\n      <td>00:3A:7D:12:45:2F</td>\n      <td>NaN</td>\n      <td>eduroam</td>\n      <td>-80</td>\n      <td>37</td>\n      <td>NaN</td>\n      <td>Ch 60 [5.300 GHz]</td>\n      <td>0 Stations</td>\n      <td>Wi-Fi [Marvell AVASTAR Wireless-AC Network Con...</td>\n      <td>01.Oost.560</td>\n    </tr>\n    <tr>\n      <th>...</th>\n      <td>...</td>\n      <td>...</td>\n      <td>...</td>\n      <td>...</td>\n      <td>...</td>\n      <td>...</td>\n      <td>...</td>\n      <td>...</td>\n      <td>...</td>\n      <td>...</td>\n      <td>...</td>\n    </tr>\n    <tr>\n      <th>25704</th>\n      <td>02-12-2020 17:39:48</td>\n      <td>84:3D:C6:C7:C3:F0</td>\n      <td>Cisco Systems Inc.</td>\n      <td>eduroam</td>\n      <td>-79</td>\n      <td>35</td>\n      <td>NaN</td>\n      <td>Ch 11 [2.462 GHz]</td>\n      <td>0 Stations</td>\n      <td>Wi-Fi [Intel(R) Dual Band Wireless-AC 3165]</td>\n      <td>02.Oost.010</td>\n    </tr>\n    <tr>\n      <th>25705</th>\n      <td>02-12-2020 17:39:48</td>\n      <td>00:3A:7D:1E:DF:3F</td>\n      <td>Cisco Systems Inc.</td>\n      <td>eduroam</td>\n      <td>-46</td>\n      <td>90</td>\n      <td>NaN</td>\n      <td>Ch 64 [5.320 GHz]</td>\n      <td>2 Stations</td>\n      <td>Wi-Fi [Intel(R) Dual Band Wireless-AC 3165]</td>\n      <td>02.Oost.010</td>\n    </tr>\n    <tr>\n      <th>25706</th>\n      <td>02-12-2020 17:39:48</td>\n      <td>00:3A:7D:1E:DF:30</td>\n      <td>Cisco Systems Inc.</td>\n      <td>eduroam</td>\n      <td>-45</td>\n      <td>91</td>\n      <td>NaN</td>\n      <td>Ch 11 [2.462 GHz]</td>\n      <td>0 Stations</td>\n      <td>Wi-Fi [Intel(R) Dual Band Wireless-AC 3165]</td>\n      <td>02.Oost.010</td>\n    </tr>\n    <tr>\n      <th>25707</th>\n      <td>02-12-2020 17:39:48</td>\n      <td>84:3D:C6:B9:29:80</td>\n      <td>Cisco Systems Inc.</td>\n      <td>eduroam</td>\n      <td>-74</td>\n      <td>43</td>\n      <td>NaN</td>\n      <td>Ch 11 [2.462 GHz]</td>\n      <td>1 Station</td>\n      <td>Wi-Fi [Intel(R) Dual Band Wireless-AC 3165]</td>\n      <td>02.Oost.010</td>\n    </tr>\n    <tr>\n      <th>25708</th>\n      <td>02-12-2020 17:39:48</td>\n      <td>84:3D:C6:B9:25:0F</td>\n      <td>Cisco Systems Inc.</td>\n      <td>eduroam</td>\n      <td>-82</td>\n      <td>30</td>\n      <td>NaN</td>\n      <td>Ch 100 [5.500 GHz]</td>\n      <td>0 Stations</td>\n      <td>Wi-Fi [Intel(R) Dual Band Wireless-AC 3165]</td>\n      <td>02.Oost.010</td>\n    </tr>\n  </tbody>\n</table>\n<p>25709 rows × 11 columns</p>\n</div>"
     },
     "metadata": {},
     "execution_count": 6
    }
   ],
   "source": [
    "group_room_list = ['01.Oost.560' , '01.West.430' , '02.Oost.010','02.Oost.200']\n",
    "groupdf = pd.DataFrame()\n",
    "for i in group_room_list:\n",
    "    groupdf=groupdf.append( eduroam_df[eduroam_df['room']==i] , ignore_index=True) \n",
    "# groupdf.reset_index()\n",
    "# groupdf.drop('index',axis=1,inplace=True)\n",
    "groupdf"
   ]
  },
  {
   "source": [
    "### number of unique MAC ID in groups dataset"
   ],
   "cell_type": "markdown",
   "metadata": {}
  },
  {
   "cell_type": "code",
   "execution_count": 65,
   "metadata": {},
   "outputs": [
    {
     "output_type": "stream",
     "name": "stdout",
     "text": [
      "93\n"
     ]
    },
    {
     "output_type": "execute_result",
     "data": {
      "text/plain": [
       "array(['00:3A:7D:34:E8:BF', '84:3D:C6:AD:80:6F', '00:3A:7D:27:BA:3F',\n",
       "       '84:3D:C6:C7:C2:0F', '00:3A:7D:12:45:2F', '84:3D:C6:B4:EA:5F',\n",
       "       '84:3D:C6:B9:2B:9F', '84:3D:C6:B9:2C:AF', '84:3D:C6:B9:3A:7F',\n",
       "       '84:3D:C6:B8:F3:5F', '84:3D:C6:AD:B3:DF', '84:3D:C6:B9:00:0F',\n",
       "       '00:3A:7D:34:7C:1F', '00:3A:7D:34:7C:10', '84:3D:C6:B9:00:00',\n",
       "       '84:3D:C6:B9:3A:70', '84:3D:C6:C7:F1:E0', '84:3D:C6:AD:80:60',\n",
       "       '00:3A:7D:34:EB:60', '00:3A:7D:12:45:20', '00:3A:7D:27:BA:30',\n",
       "       '00:3A:7D:12:45:80', '00:3A:7D:34:E8:B0', '84:3D:C6:C7:C2:00',\n",
       "       '84:3D:C6:B9:2B:90', '84:3D:C6:B9:2C:A0', '84:3D:C6:B4:EA:50',\n",
       "       '84:3D:C6:B8:F3:50', '00:3A:7D:12:45:8F', '00:3A:7D:34:EB:6F',\n",
       "       '84:3D:C6:AD:B3:D0', '84:3D:C6:BD:31:00', '84:3D:C6:8C:B4:B0',\n",
       "       '84:3D:C6:B9:37:1F', '00:3A:7D:34:7D:40', '84:3D:C6:D5:27:4F',\n",
       "       '84:3D:C6:B9:3C:7F', '84:3D:C6:D5:27:40', '84:3D:C6:AD:7D:D0',\n",
       "       '84:3D:C6:B9:37:10', '84:3D:C6:B9:3C:70', '84:3D:C6:A8:A4:00',\n",
       "       '00:3A:7D:44:92:4F', '84:3D:C6:B9:02:7F', '84:3D:C6:AD:7D:DF',\n",
       "       '84:3D:C6:B9:3B:0F', '84:3D:C6:D5:27:5F', '84:3D:C6:B9:02:A0',\n",
       "       '84:3D:C6:B9:3B:00', '00:3A:7D:34:D9:10', '84:3D:C6:C7:F8:C0',\n",
       "       '84:3D:C6:BD:42:70', '84:3D:C6:B8:F9:D0', '84:3D:C6:B9:2E:00',\n",
       "       '84:3D:C6:BD:42:7F', '84:3D:C6:B9:2E:0F', '84:3D:C6:C7:C1:8F',\n",
       "       '84:3D:C6:D5:27:50', '84:3D:C6:B8:E8:40', '00:3A:7D:27:B4:A0',\n",
       "       '00:3A:7D:34:E6:80', '84:3D:C6:B9:02:70', '84:3D:C6:C7:C1:80',\n",
       "       '00:3A:7D:1E:E0:C0', '00:3A:7D:44:92:40', '00:3A:7D:34:E3:CF',\n",
       "       '00:3A:7D:34:7A:4F', '84:3D:C6:C7:C3:F0', '00:3A:7D:34:E3:C0',\n",
       "       '00:3A:7D:34:EC:30', '84:3D:C6:C7:C2:8F', '00:3A:7D:27:AF:80',\n",
       "       '00:3A:7D:34:E5:EF', '84:3D:C6:BD:4D:A0', '00:3A:7D:34:E5:E0',\n",
       "       '2C:D0:2D:98:09:A0', '00:3A:7D:34:EC:3F', '84:3D:C6:C7:C3:FF',\n",
       "       '00:3A:7D:34:7A:40', '84:3D:C6:C7:C2:80', '00:3A:7D:27:AF:8F',\n",
       "       '84:3D:C6:B9:25:00', '84:3D:C6:B8:EC:40', '00:3A:7D:1E:DF:3F',\n",
       "       '00:3A:7D:1E:DF:30', '84:3D:C6:B9:29:80', '84:3D:C6:B9:25:0F',\n",
       "       '84:3D:C6:B9:29:8F', '00:3A:7D:34:E7:70', '84:3D:C6:B9:2A:60',\n",
       "       '84:3D:C6:B9:2C:E0', '00:3A:7D:21:46:D0', '00:3A:7D:34:E6:50'],\n",
       "      dtype=object)"
      ]
     },
     "metadata": {},
     "execution_count": 65
    }
   ],
   "source": [
    "a = groupdf.macID.unique()\n",
    "print(len(a))\n",
    "a"
   ]
  },
  {
   "cell_type": "code",
   "execution_count": 34,
   "metadata": {},
   "outputs": [
    {
     "output_type": "stream",
     "name": "stdout",
     "text": [
      "-78.85368956743002\n-60\n-91\n5.605749357596784\n-79.0\n"
     ]
    }
   ],
   "source": [
    "_ = eduroam_df[eduroam_df['macID'] == \"00:3A:7D:34:E8:BF\"]\n",
    "# _.plot(y='macID',x='signal',kind='scatter')\n",
    "print(_.signal.mean())\n",
    "print(_.signal.max())\n",
    "print(_.signal.min())\n",
    "print(_.signal.std())\n",
    "print(_.signal.median())"
   ]
  },
  {
   "source": [
    "----\n",
    "# part A\n",
    "---"
   ],
   "cell_type": "markdown",
   "metadata": {}
  },
  {
   "cell_type": "code",
   "execution_count": 223,
   "metadata": {},
   "outputs": [
    {
     "output_type": "stream",
     "name": "stdout",
     "text": [
      "percentage of 02.Oost.500 that is also in 02.Oost.700 = 0.2727272727272727\npercentage of 02.Oost.700 that is also in 02.Oost.500 = 0.2903225806451613\n"
     ]
    }
   ],
   "source": [
    "s1 = set(eduroam_df[eduroam_df.room == '02.Oost.500'].macID)\n",
    "s2 = set(eduroam_df[eduroam_df.room == '02.Oost.700'].macID)\n",
    "s3 = s1 & s2\n",
    "print(\"percentage of 02.Oost.500 that is also in 02.Oost.700 = \" + str(len(s3) / len(s1)))\n",
    "print(\"percentage of 02.Oost.700 that is also in 02.Oost.500 = \" + str(len(s3) / len(s2)))"
   ]
  },
  {
   "source": [
    "---\n",
    "# Part B\n",
    "---"
   ],
   "cell_type": "markdown",
   "metadata": {}
  },
  {
   "cell_type": "code",
   "execution_count": 514,
   "metadata": {},
   "outputs": [
    {
     "output_type": "stream",
     "name": "stdout",
     "text": [
      "1175\n"
     ]
    },
    {
     "output_type": "execute_result",
     "data": {
      "text/plain": [
       "                                            macID  signal         room\n",
       "uniqueID                                                              \n",
       "00:A6:CA:55:D9:20__01.Oost.330  00:A6:CA:55:D9:20     -78  01.Oost.330\n",
       "00:A6:CA:66:AF:B0__01.Oost.330  00:A6:CA:66:AF:B0     -74  01.Oost.330\n",
       "00:A6:CA:61:F6:00__01.Oost.330  00:A6:CA:61:F6:00     -77  01.Oost.330\n",
       "00:A6:CA:66:AC:D0__01.Oost.330  00:A6:CA:66:AC:D0     -72  01.Oost.330\n",
       "00:A6:CA:44:70:70__01.Oost.330  00:A6:CA:44:70:70     -74  01.Oost.330\n",
       "...                                           ...     ...          ...\n",
       "00:3A:7D:34:7B:40__Z            00:3A:7D:34:7B:40     -44            Z\n",
       "00:3A:7D:34:E5:E0__Z            00:3A:7D:34:E5:E0     -69            Z\n",
       "00:3A:7D:21:46:20__Z            00:3A:7D:21:46:20     -55            Z\n",
       "84:3D:C6:B9:2A:90__Z            84:3D:C6:B9:2A:90     -71            Z\n",
       "00:3A:7D:12:43:D0__Z            00:3A:7D:12:43:D0     -60            Z\n",
       "\n",
       "[238537 rows x 3 columns]"
      ],
      "text/html": "<div>\n<style scoped>\n    .dataframe tbody tr th:only-of-type {\n        vertical-align: middle;\n    }\n\n    .dataframe tbody tr th {\n        vertical-align: top;\n    }\n\n    .dataframe thead th {\n        text-align: right;\n    }\n</style>\n<table border=\"1\" class=\"dataframe\">\n  <thead>\n    <tr style=\"text-align: right;\">\n      <th></th>\n      <th>macID</th>\n      <th>signal</th>\n      <th>room</th>\n    </tr>\n    <tr>\n      <th>uniqueID</th>\n      <th></th>\n      <th></th>\n      <th></th>\n    </tr>\n  </thead>\n  <tbody>\n    <tr>\n      <th>00:A6:CA:55:D9:20__01.Oost.330</th>\n      <td>00:A6:CA:55:D9:20</td>\n      <td>-78</td>\n      <td>01.Oost.330</td>\n    </tr>\n    <tr>\n      <th>00:A6:CA:66:AF:B0__01.Oost.330</th>\n      <td>00:A6:CA:66:AF:B0</td>\n      <td>-74</td>\n      <td>01.Oost.330</td>\n    </tr>\n    <tr>\n      <th>00:A6:CA:61:F6:00__01.Oost.330</th>\n      <td>00:A6:CA:61:F6:00</td>\n      <td>-77</td>\n      <td>01.Oost.330</td>\n    </tr>\n    <tr>\n      <th>00:A6:CA:66:AC:D0__01.Oost.330</th>\n      <td>00:A6:CA:66:AC:D0</td>\n      <td>-72</td>\n      <td>01.Oost.330</td>\n    </tr>\n    <tr>\n      <th>00:A6:CA:44:70:70__01.Oost.330</th>\n      <td>00:A6:CA:44:70:70</td>\n      <td>-74</td>\n      <td>01.Oost.330</td>\n    </tr>\n    <tr>\n      <th>...</th>\n      <td>...</td>\n      <td>...</td>\n      <td>...</td>\n    </tr>\n    <tr>\n      <th>00:3A:7D:34:7B:40__Z</th>\n      <td>00:3A:7D:34:7B:40</td>\n      <td>-44</td>\n      <td>Z</td>\n    </tr>\n    <tr>\n      <th>00:3A:7D:34:E5:E0__Z</th>\n      <td>00:3A:7D:34:E5:E0</td>\n      <td>-69</td>\n      <td>Z</td>\n    </tr>\n    <tr>\n      <th>00:3A:7D:21:46:20__Z</th>\n      <td>00:3A:7D:21:46:20</td>\n      <td>-55</td>\n      <td>Z</td>\n    </tr>\n    <tr>\n      <th>84:3D:C6:B9:2A:90__Z</th>\n      <td>84:3D:C6:B9:2A:90</td>\n      <td>-71</td>\n      <td>Z</td>\n    </tr>\n    <tr>\n      <th>00:3A:7D:12:43:D0__Z</th>\n      <td>00:3A:7D:12:43:D0</td>\n      <td>-60</td>\n      <td>Z</td>\n    </tr>\n  </tbody>\n</table>\n<p>238537 rows × 3 columns</p>\n</div>"
     },
     "metadata": {},
     "execution_count": 514
    }
   ],
   "source": [
    "studydf = eduroam_df.drop(['time','vendor','access_pt','idk','idk_2','freq','station_info','specs'], axis=1)\n",
    "studydf['uniqueID'] = studydf['macID']+'__'+studydf['room']\n",
    "# studydf.drop(['macID','room'], axis=1, inplace=True)\n",
    "studydf.set_index('uniqueID', inplace=True)\n",
    "studydf.signal = pd.to_numeric(studydf.signal)\n",
    "print(len(studydf.index.unique()))\n",
    "studydf\n",
    "redo=studydf.copy()\n"
   ]
  },
  {
   "cell_type": "code",
   "execution_count": 147,
   "metadata": {},
   "outputs": [
    {
     "output_type": "execute_result",
     "data": {
      "text/plain": [
       "                            uniqueID     signal         room  \\\n",
       "0     00:3A:7D:12:3E:90__BG.West.030 -69.987342  BG.West.030   \n",
       "1     00:3A:7D:12:3E:9F__BG.West.030 -78.329730  BG.West.030   \n",
       "2               00:3A:7D:12:41:20__X -71.693267            X   \n",
       "3               00:3A:7D:12:41:2F__X -78.835381            X   \n",
       "4               00:3A:7D:12:43:B0__X -77.950860            X   \n",
       "...                              ...        ...          ...   \n",
       "1170  84:3D:C6:D5:27:70__02.West.200 -82.599520  02.West.200   \n",
       "1171            84:3D:C6:D5:27:70__F -56.426184            F   \n",
       "1172       84:3D:C6:D5:27:70__Geolab -58.949153       Geolab   \n",
       "1173            84:3D:C6:D5:27:7F__F -62.994429            F   \n",
       "1174       84:3D:C6:D5:27:7F__Geolab -74.358974       Geolab   \n",
       "\n",
       "                    mac  \n",
       "0     00:3A:7D:12:3E:90  \n",
       "1     00:3A:7D:12:3E:9F  \n",
       "2     00:3A:7D:12:41:20  \n",
       "3     00:3A:7D:12:41:2F  \n",
       "4     00:3A:7D:12:43:B0  \n",
       "...                 ...  \n",
       "1170  84:3D:C6:D5:27:70  \n",
       "1171  84:3D:C6:D5:27:70  \n",
       "1172  84:3D:C6:D5:27:70  \n",
       "1173  84:3D:C6:D5:27:7F  \n",
       "1174  84:3D:C6:D5:27:7F  \n",
       "\n",
       "[1175 rows x 4 columns]"
      ],
      "text/html": "<div>\n<style scoped>\n    .dataframe tbody tr th:only-of-type {\n        vertical-align: middle;\n    }\n\n    .dataframe tbody tr th {\n        vertical-align: top;\n    }\n\n    .dataframe thead th {\n        text-align: right;\n    }\n</style>\n<table border=\"1\" class=\"dataframe\">\n  <thead>\n    <tr style=\"text-align: right;\">\n      <th></th>\n      <th>uniqueID</th>\n      <th>signal</th>\n      <th>room</th>\n      <th>mac</th>\n    </tr>\n  </thead>\n  <tbody>\n    <tr>\n      <th>0</th>\n      <td>00:3A:7D:12:3E:90__BG.West.030</td>\n      <td>-69.987342</td>\n      <td>BG.West.030</td>\n      <td>00:3A:7D:12:3E:90</td>\n    </tr>\n    <tr>\n      <th>1</th>\n      <td>00:3A:7D:12:3E:9F__BG.West.030</td>\n      <td>-78.329730</td>\n      <td>BG.West.030</td>\n      <td>00:3A:7D:12:3E:9F</td>\n    </tr>\n    <tr>\n      <th>2</th>\n      <td>00:3A:7D:12:41:20__X</td>\n      <td>-71.693267</td>\n      <td>X</td>\n      <td>00:3A:7D:12:41:20</td>\n    </tr>\n    <tr>\n      <th>3</th>\n      <td>00:3A:7D:12:41:2F__X</td>\n      <td>-78.835381</td>\n      <td>X</td>\n      <td>00:3A:7D:12:41:2F</td>\n    </tr>\n    <tr>\n      <th>4</th>\n      <td>00:3A:7D:12:43:B0__X</td>\n      <td>-77.950860</td>\n      <td>X</td>\n      <td>00:3A:7D:12:43:B0</td>\n    </tr>\n    <tr>\n      <th>...</th>\n      <td>...</td>\n      <td>...</td>\n      <td>...</td>\n      <td>...</td>\n    </tr>\n    <tr>\n      <th>1170</th>\n      <td>84:3D:C6:D5:27:70__02.West.200</td>\n      <td>-82.599520</td>\n      <td>02.West.200</td>\n      <td>84:3D:C6:D5:27:70</td>\n    </tr>\n    <tr>\n      <th>1171</th>\n      <td>84:3D:C6:D5:27:70__F</td>\n      <td>-56.426184</td>\n      <td>F</td>\n      <td>84:3D:C6:D5:27:70</td>\n    </tr>\n    <tr>\n      <th>1172</th>\n      <td>84:3D:C6:D5:27:70__Geolab</td>\n      <td>-58.949153</td>\n      <td>Geolab</td>\n      <td>84:3D:C6:D5:27:70</td>\n    </tr>\n    <tr>\n      <th>1173</th>\n      <td>84:3D:C6:D5:27:7F__F</td>\n      <td>-62.994429</td>\n      <td>F</td>\n      <td>84:3D:C6:D5:27:7F</td>\n    </tr>\n    <tr>\n      <th>1174</th>\n      <td>84:3D:C6:D5:27:7F__Geolab</td>\n      <td>-74.358974</td>\n      <td>Geolab</td>\n      <td>84:3D:C6:D5:27:7F</td>\n    </tr>\n  </tbody>\n</table>\n<p>1175 rows × 4 columns</p>\n</div>"
     },
     "metadata": {},
     "execution_count": 147
    }
   ],
   "source": [
    "studydf = studydf.groupby('uniqueID').agg(lambda x: x.mean())\n",
    "studydf.reset_index(inplace=True)\n",
    "studydf['room'] = studydf['uniqueID'].apply(lambda x: x.split('__')[-1])\n",
    "studydf['mac'] = studydf['uniqueID'].apply(lambda x: x.split('__')[0])\n",
    "studydf"
   ]
  },
  {
   "source": [
    "---\n",
    "## 30 sec data\n",
    "---"
   ],
   "cell_type": "markdown",
   "metadata": {}
  },
  {
   "cell_type": "code",
   "execution_count": 479,
   "metadata": {},
   "outputs": [
    {
     "output_type": "stream",
     "name": "stdout",
     "text": [
      "312\n"
     ]
    },
    {
     "output_type": "execute_result",
     "data": {
      "text/plain": [
       "                uniqueID30  signal room                mac\n",
       "2355  00:A6:CA:5A:6F:8F__A     -79    A  00:A6:CA:5A:6F:8F\n",
       "2356  84:3D:C6:B8:FB:C0__A     -80    A  84:3D:C6:B8:FB:C0\n",
       "2357  84:3D:C6:62:D2:B0__A     -76    A  84:3D:C6:62:D2:B0\n",
       "2358  84:3D:C6:B9:25:00__A     -72    A  84:3D:C6:B9:25:00\n",
       "2359  00:A6:CA:5A:5A:80__A     -70    A  00:A6:CA:5A:5A:80"
      ],
      "text/html": "<div>\n<style scoped>\n    .dataframe tbody tr th:only-of-type {\n        vertical-align: middle;\n    }\n\n    .dataframe tbody tr th {\n        vertical-align: top;\n    }\n\n    .dataframe thead th {\n        text-align: right;\n    }\n</style>\n<table border=\"1\" class=\"dataframe\">\n  <thead>\n    <tr style=\"text-align: right;\">\n      <th></th>\n      <th>uniqueID30</th>\n      <th>signal</th>\n      <th>room</th>\n      <th>mac</th>\n    </tr>\n  </thead>\n  <tbody>\n    <tr>\n      <th>2355</th>\n      <td>00:A6:CA:5A:6F:8F__A</td>\n      <td>-79</td>\n      <td>A</td>\n      <td>00:A6:CA:5A:6F:8F</td>\n    </tr>\n    <tr>\n      <th>2356</th>\n      <td>84:3D:C6:B8:FB:C0__A</td>\n      <td>-80</td>\n      <td>A</td>\n      <td>84:3D:C6:B8:FB:C0</td>\n    </tr>\n    <tr>\n      <th>2357</th>\n      <td>84:3D:C6:62:D2:B0__A</td>\n      <td>-76</td>\n      <td>A</td>\n      <td>84:3D:C6:62:D2:B0</td>\n    </tr>\n    <tr>\n      <th>2358</th>\n      <td>84:3D:C6:B9:25:00__A</td>\n      <td>-72</td>\n      <td>A</td>\n      <td>84:3D:C6:B9:25:00</td>\n    </tr>\n    <tr>\n      <th>2359</th>\n      <td>00:A6:CA:5A:5A:80__A</td>\n      <td>-70</td>\n      <td>A</td>\n      <td>00:A6:CA:5A:5A:80</td>\n    </tr>\n  </tbody>\n</table>\n</div>"
     },
     "metadata": {},
     "execution_count": 479
    }
   ],
   "source": [
    "path30 = './30_sec/'\n",
    "thirty = dfinator(path30)\n",
    "thirty = thirty[thirty['access_pt']=='eduroam'].drop(['time','vendor','access_pt','idk','idk_2','freq','station_info','specs'], axis=1)\n",
    "\n",
    "\n",
    "thirty['uniqueID30'] = thirty['macID']+'__'+ thirty['room']\n",
    "thirty.drop(['macID','room'], axis=1, inplace=True)\n",
    "thirty.set_index('uniqueID30', inplace=True)\n",
    "thirty.signal = pd.to_numeric(thirty.signal)\n",
    "print(len(thirty.index.unique()))\n",
    "\n",
    "# thirty = thirty.groupby('uniqueID30').agg(lambda x: x.mean())\n",
    "thirty.reset_index(inplace=True)\n",
    "thirty['room'] = thirty['uniqueID30'].apply(lambda x: x.split('__')[-1])\n",
    "thirty['mac'] = thirty['uniqueID30'].apply(lambda x: x.split('__')[0])\n",
    "\n",
    "thirty_room400 = thirty[thirty['room']=='A']\n",
    "thirty_room400.head()"
   ]
  },
  {
   "cell_type": "code",
   "execution_count": 261,
   "metadata": {
    "tags": []
   },
   "outputs": [
    {
     "output_type": "stream",
     "name": "stdout",
     "text": [
      "{'Berlage': 14.0, '01.Oost.330': 305.06754636569895, '02.Oost.470': 341.62109855305175, 'BG.Oost.430': 82.37541497143084, 'C': 29.361594202898544, 'Room D': 93.78770915358766, 'Room R': 101.67427360271998, 'Stairs coffee': 212.16763059655904, 'Z': 32.457762626008474, '01.Oost.560': 72.64409550693954, '02.Oost.500': 99.61752945203274, 'U': 276.00961034990473, 'Our workroom': 21.98952380952383, '02.Oost.700': 119.96761541641014, 'Expo upstairs': 179.2115812873024, 'T': 185.30398328720747}\n"
     ]
    }
   ],
   "source": [
    "d_spear = dict()\n",
    "d_man = dict()\n",
    "\n",
    "for room_ in studydf.room.unique():\n",
    "    # print(room_)\n",
    "    for macid in thirty_room400.mac :\n",
    "        try:\n",
    "            sig1 = float(thirty_room400[thirty_room400['mac'] == macid].signal)\n",
    "            sig2 = float(studydf[(studydf['room'] == room_) & (studydf['mac']==macid)].signal)\n",
    "        \n",
    "            dist_spear = (sig1-sig2)**2\n",
    "            dist_man =  abs(sig1-sig2)\n",
    "            d_spear[room_] =  d_spear.get(room_,dist_spear) + dist_spear\n",
    "            d_man[room_] =  d_man.get(room_,dist_man) + dist_man\n",
    "            \n",
    "        except:\n",
    "            continue\n",
    "\n",
    "print(d_man)\n",
    "d_euc={}\n",
    "for rm , val in d.items():\n",
    "    d_euc[rm] = val**0.5\n"
   ]
  },
  {
   "cell_type": "code",
   "execution_count": 262,
   "metadata": {},
   "outputs": [
    {
     "output_type": "stream",
     "name": "stdout",
     "text": [
      "spear   Berlage\nmanhat  Berlage\nEuclid  WalrtmanBouwshop\n"
     ]
    }
   ],
   "source": [
    "print(\"spear  \" , min(d_spear, key=d_spear.get) )\n",
    "print(\"manhat \" , min(d_man, key=d_man.get)     )\n",
    "print(\"Euclid \" , min(d_euc, key=d_euc.get)     )\n",
    "\n",
    "# d['02.Oost.500']"
   ]
  },
  {
   "source": [
    "# using ML\n"
   ],
   "cell_type": "markdown",
   "metadata": {}
  },
  {
   "cell_type": "code",
   "execution_count": 399,
   "metadata": {},
   "outputs": [],
   "source": [
    "from sklearn.neighbors import KNeighborsClassifier"
   ]
  },
  {
   "cell_type": "code",
   "execution_count": 452,
   "metadata": {},
   "outputs": [
    {
     "output_type": "execute_result",
     "data": {
      "text/plain": [
       "                    macID signal         room                        uniqueID  \\\n",
       "0       00:A6:CA:55:D9:20    -78  01.Oost.330  00:A6:CA:55:D9:20__01.Oost.330   \n",
       "1       00:A6:CA:66:AF:B0    -74  01.Oost.330  00:A6:CA:66:AF:B0__01.Oost.330   \n",
       "2       00:A6:CA:61:F6:00    -77  01.Oost.330  00:A6:CA:61:F6:00__01.Oost.330   \n",
       "3       00:A6:CA:66:AC:D0    -72  01.Oost.330  00:A6:CA:66:AC:D0__01.Oost.330   \n",
       "4       00:A6:CA:44:70:70    -74  01.Oost.330  00:A6:CA:44:70:70__01.Oost.330   \n",
       "...                   ...    ...          ...                             ...   \n",
       "238532  00:3A:7D:34:7B:40    -44            Z            00:3A:7D:34:7B:40__Z   \n",
       "238533  00:3A:7D:34:E5:E0    -69            Z            00:3A:7D:34:E5:E0__Z   \n",
       "238534  00:3A:7D:21:46:20    -55            Z            00:3A:7D:21:46:20__Z   \n",
       "238535  84:3D:C6:B9:2A:90    -71            Z            84:3D:C6:B9:2A:90__Z   \n",
       "238536  00:3A:7D:12:43:D0    -60            Z            00:3A:7D:12:43:D0__Z   \n",
       "\n",
       "        macno  \n",
       "0           0  \n",
       "1           1  \n",
       "2           2  \n",
       "3           3  \n",
       "4           4  \n",
       "...       ...  \n",
       "238532     10  \n",
       "238533     22  \n",
       "238534      9  \n",
       "238535     12  \n",
       "238536     41  \n",
       "\n",
       "[238537 rows x 5 columns]"
      ],
      "text/html": "<div>\n<style scoped>\n    .dataframe tbody tr th:only-of-type {\n        vertical-align: middle;\n    }\n\n    .dataframe tbody tr th {\n        vertical-align: top;\n    }\n\n    .dataframe thead th {\n        text-align: right;\n    }\n</style>\n<table border=\"1\" class=\"dataframe\">\n  <thead>\n    <tr style=\"text-align: right;\">\n      <th></th>\n      <th>macID</th>\n      <th>signal</th>\n      <th>room</th>\n      <th>uniqueID</th>\n      <th>macno</th>\n    </tr>\n  </thead>\n  <tbody>\n    <tr>\n      <th>0</th>\n      <td>00:A6:CA:55:D9:20</td>\n      <td>-78</td>\n      <td>01.Oost.330</td>\n      <td>00:A6:CA:55:D9:20__01.Oost.330</td>\n      <td>0</td>\n    </tr>\n    <tr>\n      <th>1</th>\n      <td>00:A6:CA:66:AF:B0</td>\n      <td>-74</td>\n      <td>01.Oost.330</td>\n      <td>00:A6:CA:66:AF:B0__01.Oost.330</td>\n      <td>1</td>\n    </tr>\n    <tr>\n      <th>2</th>\n      <td>00:A6:CA:61:F6:00</td>\n      <td>-77</td>\n      <td>01.Oost.330</td>\n      <td>00:A6:CA:61:F6:00__01.Oost.330</td>\n      <td>2</td>\n    </tr>\n    <tr>\n      <th>3</th>\n      <td>00:A6:CA:66:AC:D0</td>\n      <td>-72</td>\n      <td>01.Oost.330</td>\n      <td>00:A6:CA:66:AC:D0__01.Oost.330</td>\n      <td>3</td>\n    </tr>\n    <tr>\n      <th>4</th>\n      <td>00:A6:CA:44:70:70</td>\n      <td>-74</td>\n      <td>01.Oost.330</td>\n      <td>00:A6:CA:44:70:70__01.Oost.330</td>\n      <td>4</td>\n    </tr>\n    <tr>\n      <th>...</th>\n      <td>...</td>\n      <td>...</td>\n      <td>...</td>\n      <td>...</td>\n      <td>...</td>\n    </tr>\n    <tr>\n      <th>238532</th>\n      <td>00:3A:7D:34:7B:40</td>\n      <td>-44</td>\n      <td>Z</td>\n      <td>00:3A:7D:34:7B:40__Z</td>\n      <td>10</td>\n    </tr>\n    <tr>\n      <th>238533</th>\n      <td>00:3A:7D:34:E5:E0</td>\n      <td>-69</td>\n      <td>Z</td>\n      <td>00:3A:7D:34:E5:E0__Z</td>\n      <td>22</td>\n    </tr>\n    <tr>\n      <th>238534</th>\n      <td>00:3A:7D:21:46:20</td>\n      <td>-55</td>\n      <td>Z</td>\n      <td>00:3A:7D:21:46:20__Z</td>\n      <td>9</td>\n    </tr>\n    <tr>\n      <th>238535</th>\n      <td>84:3D:C6:B9:2A:90</td>\n      <td>-71</td>\n      <td>Z</td>\n      <td>84:3D:C6:B9:2A:90__Z</td>\n      <td>12</td>\n    </tr>\n    <tr>\n      <th>238536</th>\n      <td>00:3A:7D:12:43:D0</td>\n      <td>-60</td>\n      <td>Z</td>\n      <td>00:3A:7D:12:43:D0__Z</td>\n      <td>41</td>\n    </tr>\n  </tbody>\n</table>\n<p>238537 rows × 5 columns</p>\n</div>"
     },
     "metadata": {},
     "execution_count": 452
    }
   ],
   "source": [
    "mldf = eduroam_df.drop(['time','vendor','access_pt','idk','idk_2','freq','station_info','specs'], axis=1)\n",
    "mldf['uniqueID'] = mldf['macID']+'__'+mldf['room']\n",
    "\n",
    "a = mldf.macID.unique()\n",
    "mldf['macno'] = mldf.macID.apply(lambda x: np.where(a==x)[0][0])\n",
    "\n",
    "x_train = mldf[['signal' , 'macno']]\n",
    "y_train = pd.Series(mldf.room)\n",
    "# x_train\n",
    "# y_train\n",
    "\n",
    "mldf"
   ]
  },
  {
   "cell_type": "code",
   "execution_count": 512,
   "metadata": {},
   "outputs": [
    {
     "output_type": "execute_result",
     "data": {
      "text/plain": [
       "      signal  macnot\n",
       "2355     -79   210.0\n",
       "2356     -80   217.0\n",
       "2357     -76   218.0\n",
       "2358     -72   138.0\n",
       "2359     -70   213.0"
      ],
      "text/html": "<div>\n<style scoped>\n    .dataframe tbody tr th:only-of-type {\n        vertical-align: middle;\n    }\n\n    .dataframe tbody tr th {\n        vertical-align: top;\n    }\n\n    .dataframe thead th {\n        text-align: right;\n    }\n</style>\n<table border=\"1\" class=\"dataframe\">\n  <thead>\n    <tr style=\"text-align: right;\">\n      <th></th>\n      <th>signal</th>\n      <th>macnot</th>\n    </tr>\n  </thead>\n  <tbody>\n    <tr>\n      <th>2355</th>\n      <td>-79</td>\n      <td>210.0</td>\n    </tr>\n    <tr>\n      <th>2356</th>\n      <td>-80</td>\n      <td>217.0</td>\n    </tr>\n    <tr>\n      <th>2357</th>\n      <td>-76</td>\n      <td>218.0</td>\n    </tr>\n    <tr>\n      <th>2358</th>\n      <td>-72</td>\n      <td>138.0</td>\n    </tr>\n    <tr>\n      <th>2359</th>\n      <td>-70</td>\n      <td>213.0</td>\n    </tr>\n  </tbody>\n</table>\n</div>"
     },
     "metadata": {},
     "execution_count": 512
    }
   ],
   "source": [
    "def indexer(a,x):\n",
    "    ind = np.where(a==x)[0]\n",
    "    if len(ind)!=0:\n",
    "        return ind[0]\n",
    "\n",
    "x_test = thirty_room400[['signal' , 'mac']]\n",
    "y_test = pd.Series(thirty_room400.room)\n",
    "x_test['macnot'] = x_test.mac.apply(lambda x: indexer(a,x))\n",
    "x_test.drop(['mac'], axis=1, inplace=True)\n",
    "x_test.dropna(inplace=True)\n",
    "x_test.head()\n"
   ]
  },
  {
   "cell_type": "code",
   "execution_count": 513,
   "metadata": {},
   "outputs": [
    {
     "output_type": "stream",
     "name": "stdout",
     "text": [
      "Predicted room is A, actual room is A. Prediction done with a score of 0.7485714285714286\n"
     ]
    }
   ],
   "source": [
    "knn = KNeighborsClassifier(n_neighbors = 12)\n",
    "knn.fit(x_train , y_train)\n",
    "pred = knn.predict(x_test)\n",
    "\n",
    "print(f\"Predicted room is {stats.mode(pred)[0][0]}, actual room is {str(y_test.iloc[0])}. Prediction done with a score of {knn.score(x_test, y_test[:x_test.shape[0]])}\")"
   ]
  },
  {
   "source": [
    "---\n",
    "## test to see best n value"
   ],
   "cell_type": "markdown",
   "metadata": {}
  },
  {
   "cell_type": "code",
   "execution_count": 467,
   "metadata": {},
   "outputs": [
    {
     "output_type": "stream",
     "name": "stdout",
     "text": [
      "at n=1 the score is 0.5100806451612904\n",
      "at n=2 the score is 0.5342741935483871\n",
      "at n=3 the score is 0.532258064516129\n",
      "at n=4 the score is 0.5262096774193549\n",
      "at n=5 the score is 0.532258064516129\n",
      "at n=6 the score is 0.530241935483871\n",
      "at n=7 the score is 0.530241935483871\n",
      "at n=8 the score is 0.5342741935483871\n",
      "at n=9 the score is 0.5342741935483871\n",
      "at n=10 the score is 0.5161290322580645\n",
      "at n=11 the score is 0.5423387096774194\n",
      "at n=12 the score is 0.5423387096774194\n",
      "at n=13 the score is 0.5524193548387096\n",
      "at n=14 the score is 0.5766129032258065\n",
      "at n=15 the score is 0.5544354838709677\n",
      "at n=16 the score is 0.5544354838709677\n",
      "at n=17 the score is 0.5544354838709677\n"
     ]
    }
   ],
   "source": [
    "for i in range(1,18) :\n",
    "    knn = KNeighborsClassifier(n_neighbors = i)\n",
    "    knn.fit(x_train , y_train)\n",
    "    knn.predict(x_test)\n",
    "    \n",
    "    print( f\"at n={i} the score is {knn.score(x_test, y_test)}\")\n"
   ]
  }
 ]
}