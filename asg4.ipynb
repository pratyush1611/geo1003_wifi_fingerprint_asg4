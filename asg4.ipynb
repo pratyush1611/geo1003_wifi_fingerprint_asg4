{
 "metadata": {
  "language_info": {
   "codemirror_mode": {
    "name": "ipython",
    "version": 3
   },
   "file_extension": ".py",
   "mimetype": "text/x-python",
   "name": "python",
   "nbconvert_exporter": "python",
   "pygments_lexer": "ipython3",
   "version": "3.8.2-final"
  },
  "orig_nbformat": 2,
  "kernelspec": {
   "name": "python3",
   "display_name": "Python 3",
   "language": "python"
  }
 },
 "nbformat": 4,
 "nbformat_minor": 2,
 "cells": [
  {
   "source": [
    "# AIM: to analyse wifi datasetsfor assignment 4, GEO1003"
   ],
   "cell_type": "markdown",
   "metadata": {}
  },
  {
   "source": [
    "## imports:\n",
    "- pandas\n",
    "- os\n"
   ],
   "cell_type": "markdown",
   "metadata": {}
  },
  {
   "cell_type": "code",
   "execution_count": 1,
   "metadata": {},
   "outputs": [],
   "source": [
    "import pandas as pd\n",
    "# pd.set_option('display.max_rows', 500)\n",
    "pd.set_option('display.max_columns', 50)\n",
    "import os"
   ]
  },
  {
   "cell_type": "code",
   "execution_count": 2,
   "metadata": {},
   "outputs": [
    {
     "output_type": "execute_result",
     "data": {
      "text/plain": [
       "['[01.Oost.330]Access Point Log 2020-12-02 17-30-02.txt',\n",
       " '[01.Oost.560].txt',\n",
       " '[01.West.430] Access Point Log 2020-12-02 17-56-25.txt',\n",
       " '[02.Oost.010] Access Point Log 2020-12-02 17-23-18.txt',\n",
       " '[02.Oost.470].txt',\n",
       " '[02.Oost.500]15min.txt',\n",
       " '[02.Oost.700].txt',\n",
       " '[02.West.200] Access Point Log 2020-12-02 17-56-02.txt',\n",
       " '[@-hoc]_02-12-20_1622.txt',\n",
       " '[A]Access Point Log 2020-12-02 16-47-14.txt',\n",
       " '[Berlage-gang]15min.txt',\n",
       " '[Berlage]15min.txt',\n",
       " '[BG.Oost.430].txt',\n",
       " '[BG.West.030]_2020-12-07.txt',\n",
       " '[C]Access Point Log 2020-12-02 17-18-31.txt',\n",
       " '[Expo upstairs]_Access Point Log 2020-12-02 15-56-05.txt',\n",
       " '[F]Access Point Log 2020-12-02 16-32-26.txt',\n",
       " '[Geolab]_2020-12-07.txt',\n",
       " '[K1.Ooost.250]_2020-12-07.txt',\n",
       " '[OostSerre]_2020-12-07.txt',\n",
       " '[Our workroom]_Access Point Log 2020-12-02 15-12-48.txt',\n",
       " '[Room 1].txt',\n",
       " '[Room D].txt',\n",
       " '[Room R].txt',\n",
       " '[Stairs coffee]_Access Point Log 2020-12-02 16-49-53_BK2.txt',\n",
       " '[Stairs red]_Access Point Log 2020-12-02 17-07-56_BK2.txt',\n",
       " '[Stylos]_02-12-20_1618.txt',\n",
       " '[T]Access Point Log 2020-12-02 16-25-08.txt',\n",
       " '[U]Access Point Log 2020-12-02 16-23-15.txt',\n",
       " '[WalrtmanBouwshop]_02-12-20_1601.txt',\n",
       " '[WestCoffeeRoom]_02-12-20_1637.txt',\n",
       " '[X]Access Point Log 2020-12-02 17-01-33.txt',\n",
       " '[Z]Access Point Log 2020-12-02 16-57-25.txt']"
      ]
     },
     "metadata": {},
     "execution_count": 2
    }
   ],
   "source": [
    "filepath = './15min/'\n",
    "filelist = os.listdir(filepath)\n",
    "filelist"
   ]
  },
  {
   "cell_type": "code",
   "execution_count": 3,
   "metadata": {},
   "outputs": [],
   "source": [
    "def dfinator(path):\n",
    "    nmlist = ['time', 'macID','vendor','access_pt','signal','idk','idk_2','freq','station_info','specs']\n",
    "    filelist = os.listdir(path)\n",
    "    megadf = pd.DataFrame(columns=nmlist)\n",
    "    for file_ in filelist:\n",
    "        df = pd.read_csv(os.path.join(path,file_)  , delimiter='\\t', names=nmlist)\n",
    "        df['room'] = str(file_.split(']')[0])[1:]\n",
    "        # df.time = pd.to_datetime(df.time)\n",
    "        megadf=megadf.append(df, ignore_index=True)\n",
    "    return megadf"
   ]
  },
  {
   "cell_type": "code",
   "execution_count": 4,
   "metadata": {},
   "outputs": [],
   "source": [
    "mega = dfinator(filepath)"
   ]
  },
  {
   "source": [
    "### number of unique MAC ID in total dataset"
   ],
   "cell_type": "markdown",
   "metadata": {}
  },
  {
   "cell_type": "code",
   "execution_count": 5,
   "metadata": {},
   "outputs": [
    {
     "output_type": "execute_result",
     "data": {
      "text/plain": [
       "347"
      ]
     },
     "metadata": {},
     "execution_count": 5
    }
   ],
   "source": [
    "eduroam_df = mega[mega['access_pt']=='eduroam']\n",
    "eduroam_df.reset_index(inplace=True)\n",
    "eduroam_df.drop('index', axis=1 , inplace=True)\n",
    "eduroam_df.head(15)\n",
    "len(eduroam_df.macID.unique())"
   ]
  },
  {
   "source": [
    "## Rooms sampled by our group\n",
    "\n",
    "01oost560 <br>\n",
    "01west430 <br>\n",
    "02oost010 <br>\n",
    "02west200\n",
    "\n",
    "\n"
   ],
   "cell_type": "markdown",
   "metadata": {}
  },
  {
   "cell_type": "code",
   "execution_count": 6,
   "metadata": {},
   "outputs": [
    {
     "output_type": "execute_result",
     "data": {
      "text/plain": [
       "                      time              macID              vendor access_pt  \\\n",
       "0       9-12-2020 14:33:40  00:3A:7D:34:E8:BF                 NaN   eduroam   \n",
       "1       9-12-2020 14:33:40  84:3D:C6:AD:80:6F                 NaN   eduroam   \n",
       "2       9-12-2020 14:33:40  00:3A:7D:27:BA:3F                 NaN   eduroam   \n",
       "3       9-12-2020 14:33:40  84:3D:C6:C7:C2:0F                 NaN   eduroam   \n",
       "4       9-12-2020 14:33:40  00:3A:7D:12:45:2F                 NaN   eduroam   \n",
       "...                    ...                ...                 ...       ...   \n",
       "25704  02-12-2020 17:39:48  84:3D:C6:C7:C3:F0  Cisco Systems Inc.   eduroam   \n",
       "25705  02-12-2020 17:39:48  00:3A:7D:1E:DF:3F  Cisco Systems Inc.   eduroam   \n",
       "25706  02-12-2020 17:39:48  00:3A:7D:1E:DF:30  Cisco Systems Inc.   eduroam   \n",
       "25707  02-12-2020 17:39:48  84:3D:C6:B9:29:80  Cisco Systems Inc.   eduroam   \n",
       "25708  02-12-2020 17:39:48  84:3D:C6:B9:25:0F  Cisco Systems Inc.   eduroam   \n",
       "\n",
       "      signal idk idk_2                freq station_info  \\\n",
       "0        -74  47   NaN  Ch 132 [5.660 GHz]   8 Stations   \n",
       "1        -61  67   NaN  Ch 116 [5.580 GHz]  10 Stations   \n",
       "2        -71  51   NaN  Ch 108 [5.540 GHz]   4 Stations   \n",
       "3        -81  36   NaN   Ch 64 [5.320 GHz]   7 Stations   \n",
       "4        -80  37   NaN   Ch 60 [5.300 GHz]   0 Stations   \n",
       "...      ...  ..   ...                 ...          ...   \n",
       "25704    -79  35   NaN   Ch 11 [2.462 GHz]   0 Stations   \n",
       "25705    -46  90   NaN   Ch 64 [5.320 GHz]   2 Stations   \n",
       "25706    -45  91   NaN   Ch 11 [2.462 GHz]   0 Stations   \n",
       "25707    -74  43   NaN   Ch 11 [2.462 GHz]    1 Station   \n",
       "25708    -82  30   NaN  Ch 100 [5.500 GHz]   0 Stations   \n",
       "\n",
       "                                                   specs         room  \n",
       "0      Wi-Fi [Marvell AVASTAR Wireless-AC Network Con...  01.Oost.560  \n",
       "1      Wi-Fi [Marvell AVASTAR Wireless-AC Network Con...  01.Oost.560  \n",
       "2      Wi-Fi [Marvell AVASTAR Wireless-AC Network Con...  01.Oost.560  \n",
       "3      Wi-Fi [Marvell AVASTAR Wireless-AC Network Con...  01.Oost.560  \n",
       "4      Wi-Fi [Marvell AVASTAR Wireless-AC Network Con...  01.Oost.560  \n",
       "...                                                  ...          ...  \n",
       "25704        Wi-Fi [Intel(R) Dual Band Wireless-AC 3165]  02.Oost.010  \n",
       "25705        Wi-Fi [Intel(R) Dual Band Wireless-AC 3165]  02.Oost.010  \n",
       "25706        Wi-Fi [Intel(R) Dual Band Wireless-AC 3165]  02.Oost.010  \n",
       "25707        Wi-Fi [Intel(R) Dual Band Wireless-AC 3165]  02.Oost.010  \n",
       "25708        Wi-Fi [Intel(R) Dual Band Wireless-AC 3165]  02.Oost.010  \n",
       "\n",
       "[25709 rows x 11 columns]"
      ],
      "text/html": "<div>\n<style scoped>\n    .dataframe tbody tr th:only-of-type {\n        vertical-align: middle;\n    }\n\n    .dataframe tbody tr th {\n        vertical-align: top;\n    }\n\n    .dataframe thead th {\n        text-align: right;\n    }\n</style>\n<table border=\"1\" class=\"dataframe\">\n  <thead>\n    <tr style=\"text-align: right;\">\n      <th></th>\n      <th>time</th>\n      <th>macID</th>\n      <th>vendor</th>\n      <th>access_pt</th>\n      <th>signal</th>\n      <th>idk</th>\n      <th>idk_2</th>\n      <th>freq</th>\n      <th>station_info</th>\n      <th>specs</th>\n      <th>room</th>\n    </tr>\n  </thead>\n  <tbody>\n    <tr>\n      <th>0</th>\n      <td>9-12-2020 14:33:40</td>\n      <td>00:3A:7D:34:E8:BF</td>\n      <td>NaN</td>\n      <td>eduroam</td>\n      <td>-74</td>\n      <td>47</td>\n      <td>NaN</td>\n      <td>Ch 132 [5.660 GHz]</td>\n      <td>8 Stations</td>\n      <td>Wi-Fi [Marvell AVASTAR Wireless-AC Network Con...</td>\n      <td>01.Oost.560</td>\n    </tr>\n    <tr>\n      <th>1</th>\n      <td>9-12-2020 14:33:40</td>\n      <td>84:3D:C6:AD:80:6F</td>\n      <td>NaN</td>\n      <td>eduroam</td>\n      <td>-61</td>\n      <td>67</td>\n      <td>NaN</td>\n      <td>Ch 116 [5.580 GHz]</td>\n      <td>10 Stations</td>\n      <td>Wi-Fi [Marvell AVASTAR Wireless-AC Network Con...</td>\n      <td>01.Oost.560</td>\n    </tr>\n    <tr>\n      <th>2</th>\n      <td>9-12-2020 14:33:40</td>\n      <td>00:3A:7D:27:BA:3F</td>\n      <td>NaN</td>\n      <td>eduroam</td>\n      <td>-71</td>\n      <td>51</td>\n      <td>NaN</td>\n      <td>Ch 108 [5.540 GHz]</td>\n      <td>4 Stations</td>\n      <td>Wi-Fi [Marvell AVASTAR Wireless-AC Network Con...</td>\n      <td>01.Oost.560</td>\n    </tr>\n    <tr>\n      <th>3</th>\n      <td>9-12-2020 14:33:40</td>\n      <td>84:3D:C6:C7:C2:0F</td>\n      <td>NaN</td>\n      <td>eduroam</td>\n      <td>-81</td>\n      <td>36</td>\n      <td>NaN</td>\n      <td>Ch 64 [5.320 GHz]</td>\n      <td>7 Stations</td>\n      <td>Wi-Fi [Marvell AVASTAR Wireless-AC Network Con...</td>\n      <td>01.Oost.560</td>\n    </tr>\n    <tr>\n      <th>4</th>\n      <td>9-12-2020 14:33:40</td>\n      <td>00:3A:7D:12:45:2F</td>\n      <td>NaN</td>\n      <td>eduroam</td>\n      <td>-80</td>\n      <td>37</td>\n      <td>NaN</td>\n      <td>Ch 60 [5.300 GHz]</td>\n      <td>0 Stations</td>\n      <td>Wi-Fi [Marvell AVASTAR Wireless-AC Network Con...</td>\n      <td>01.Oost.560</td>\n    </tr>\n    <tr>\n      <th>...</th>\n      <td>...</td>\n      <td>...</td>\n      <td>...</td>\n      <td>...</td>\n      <td>...</td>\n      <td>...</td>\n      <td>...</td>\n      <td>...</td>\n      <td>...</td>\n      <td>...</td>\n      <td>...</td>\n    </tr>\n    <tr>\n      <th>25704</th>\n      <td>02-12-2020 17:39:48</td>\n      <td>84:3D:C6:C7:C3:F0</td>\n      <td>Cisco Systems Inc.</td>\n      <td>eduroam</td>\n      <td>-79</td>\n      <td>35</td>\n      <td>NaN</td>\n      <td>Ch 11 [2.462 GHz]</td>\n      <td>0 Stations</td>\n      <td>Wi-Fi [Intel(R) Dual Band Wireless-AC 3165]</td>\n      <td>02.Oost.010</td>\n    </tr>\n    <tr>\n      <th>25705</th>\n      <td>02-12-2020 17:39:48</td>\n      <td>00:3A:7D:1E:DF:3F</td>\n      <td>Cisco Systems Inc.</td>\n      <td>eduroam</td>\n      <td>-46</td>\n      <td>90</td>\n      <td>NaN</td>\n      <td>Ch 64 [5.320 GHz]</td>\n      <td>2 Stations</td>\n      <td>Wi-Fi [Intel(R) Dual Band Wireless-AC 3165]</td>\n      <td>02.Oost.010</td>\n    </tr>\n    <tr>\n      <th>25706</th>\n      <td>02-12-2020 17:39:48</td>\n      <td>00:3A:7D:1E:DF:30</td>\n      <td>Cisco Systems Inc.</td>\n      <td>eduroam</td>\n      <td>-45</td>\n      <td>91</td>\n      <td>NaN</td>\n      <td>Ch 11 [2.462 GHz]</td>\n      <td>0 Stations</td>\n      <td>Wi-Fi [Intel(R) Dual Band Wireless-AC 3165]</td>\n      <td>02.Oost.010</td>\n    </tr>\n    <tr>\n      <th>25707</th>\n      <td>02-12-2020 17:39:48</td>\n      <td>84:3D:C6:B9:29:80</td>\n      <td>Cisco Systems Inc.</td>\n      <td>eduroam</td>\n      <td>-74</td>\n      <td>43</td>\n      <td>NaN</td>\n      <td>Ch 11 [2.462 GHz]</td>\n      <td>1 Station</td>\n      <td>Wi-Fi [Intel(R) Dual Band Wireless-AC 3165]</td>\n      <td>02.Oost.010</td>\n    </tr>\n    <tr>\n      <th>25708</th>\n      <td>02-12-2020 17:39:48</td>\n      <td>84:3D:C6:B9:25:0F</td>\n      <td>Cisco Systems Inc.</td>\n      <td>eduroam</td>\n      <td>-82</td>\n      <td>30</td>\n      <td>NaN</td>\n      <td>Ch 100 [5.500 GHz]</td>\n      <td>0 Stations</td>\n      <td>Wi-Fi [Intel(R) Dual Band Wireless-AC 3165]</td>\n      <td>02.Oost.010</td>\n    </tr>\n  </tbody>\n</table>\n<p>25709 rows × 11 columns</p>\n</div>"
     },
     "metadata": {},
     "execution_count": 6
    }
   ],
   "source": [
    "group_room_list = ['01.Oost.560' , '01.West.430' , '02.Oost.010','02.Oost.200']\n",
    "groupdf = pd.DataFrame()\n",
    "for i in group_room_list:\n",
    "    groupdf=groupdf.append( eduroam_df[eduroam_df['room']==i] , ignore_index=True) \n",
    "# groupdf.reset_index()\n",
    "# groupdf.drop('index',axis=1,inplace=True)\n",
    "groupdf"
   ]
  },
  {
   "source": [
    "### number of unique MAC ID in groups dataset"
   ],
   "cell_type": "markdown",
   "metadata": {}
  },
  {
   "cell_type": "code",
   "execution_count": 65,
   "metadata": {},
   "outputs": [
    {
     "output_type": "stream",
     "name": "stdout",
     "text": [
      "93\n"
     ]
    },
    {
     "output_type": "execute_result",
     "data": {
      "text/plain": [
       "array(['00:3A:7D:34:E8:BF', '84:3D:C6:AD:80:6F', '00:3A:7D:27:BA:3F',\n",
       "       '84:3D:C6:C7:C2:0F', '00:3A:7D:12:45:2F', '84:3D:C6:B4:EA:5F',\n",
       "       '84:3D:C6:B9:2B:9F', '84:3D:C6:B9:2C:AF', '84:3D:C6:B9:3A:7F',\n",
       "       '84:3D:C6:B8:F3:5F', '84:3D:C6:AD:B3:DF', '84:3D:C6:B9:00:0F',\n",
       "       '00:3A:7D:34:7C:1F', '00:3A:7D:34:7C:10', '84:3D:C6:B9:00:00',\n",
       "       '84:3D:C6:B9:3A:70', '84:3D:C6:C7:F1:E0', '84:3D:C6:AD:80:60',\n",
       "       '00:3A:7D:34:EB:60', '00:3A:7D:12:45:20', '00:3A:7D:27:BA:30',\n",
       "       '00:3A:7D:12:45:80', '00:3A:7D:34:E8:B0', '84:3D:C6:C7:C2:00',\n",
       "       '84:3D:C6:B9:2B:90', '84:3D:C6:B9:2C:A0', '84:3D:C6:B4:EA:50',\n",
       "       '84:3D:C6:B8:F3:50', '00:3A:7D:12:45:8F', '00:3A:7D:34:EB:6F',\n",
       "       '84:3D:C6:AD:B3:D0', '84:3D:C6:BD:31:00', '84:3D:C6:8C:B4:B0',\n",
       "       '84:3D:C6:B9:37:1F', '00:3A:7D:34:7D:40', '84:3D:C6:D5:27:4F',\n",
       "       '84:3D:C6:B9:3C:7F', '84:3D:C6:D5:27:40', '84:3D:C6:AD:7D:D0',\n",
       "       '84:3D:C6:B9:37:10', '84:3D:C6:B9:3C:70', '84:3D:C6:A8:A4:00',\n",
       "       '00:3A:7D:44:92:4F', '84:3D:C6:B9:02:7F', '84:3D:C6:AD:7D:DF',\n",
       "       '84:3D:C6:B9:3B:0F', '84:3D:C6:D5:27:5F', '84:3D:C6:B9:02:A0',\n",
       "       '84:3D:C6:B9:3B:00', '00:3A:7D:34:D9:10', '84:3D:C6:C7:F8:C0',\n",
       "       '84:3D:C6:BD:42:70', '84:3D:C6:B8:F9:D0', '84:3D:C6:B9:2E:00',\n",
       "       '84:3D:C6:BD:42:7F', '84:3D:C6:B9:2E:0F', '84:3D:C6:C7:C1:8F',\n",
       "       '84:3D:C6:D5:27:50', '84:3D:C6:B8:E8:40', '00:3A:7D:27:B4:A0',\n",
       "       '00:3A:7D:34:E6:80', '84:3D:C6:B9:02:70', '84:3D:C6:C7:C1:80',\n",
       "       '00:3A:7D:1E:E0:C0', '00:3A:7D:44:92:40', '00:3A:7D:34:E3:CF',\n",
       "       '00:3A:7D:34:7A:4F', '84:3D:C6:C7:C3:F0', '00:3A:7D:34:E3:C0',\n",
       "       '00:3A:7D:34:EC:30', '84:3D:C6:C7:C2:8F', '00:3A:7D:27:AF:80',\n",
       "       '00:3A:7D:34:E5:EF', '84:3D:C6:BD:4D:A0', '00:3A:7D:34:E5:E0',\n",
       "       '2C:D0:2D:98:09:A0', '00:3A:7D:34:EC:3F', '84:3D:C6:C7:C3:FF',\n",
       "       '00:3A:7D:34:7A:40', '84:3D:C6:C7:C2:80', '00:3A:7D:27:AF:8F',\n",
       "       '84:3D:C6:B9:25:00', '84:3D:C6:B8:EC:40', '00:3A:7D:1E:DF:3F',\n",
       "       '00:3A:7D:1E:DF:30', '84:3D:C6:B9:29:80', '84:3D:C6:B9:25:0F',\n",
       "       '84:3D:C6:B9:29:8F', '00:3A:7D:34:E7:70', '84:3D:C6:B9:2A:60',\n",
       "       '84:3D:C6:B9:2C:E0', '00:3A:7D:21:46:D0', '00:3A:7D:34:E6:50'],\n",
       "      dtype=object)"
      ]
     },
     "metadata": {},
     "execution_count": 65
    }
   ],
   "source": [
    "a = groupdf.macID.unique()\n",
    "print(len(a))\n",
    "a"
   ]
  },
  {
   "cell_type": "code",
   "execution_count": 34,
   "metadata": {},
   "outputs": [
    {
     "output_type": "stream",
     "name": "stdout",
     "text": [
      "-78.85368956743002\n-60\n-91\n5.605749357596784\n-79.0\n"
     ]
    }
   ],
   "source": [
    "_ = eduroam_df[eduroam_df['macID'] == \"00:3A:7D:34:E8:BF\"]\n",
    "# _.plot(y='macID',x='signal',kind='scatter')\n",
    "print(_.signal.mean())\n",
    "print(_.signal.max())\n",
    "print(_.signal.min())\n",
    "print(_.signal.std())\n",
    "print(_.signal.median())"
   ]
  },
  {
   "cell_type": "code",
   "execution_count": 83,
   "metadata": {},
   "outputs": [
    {
     "output_type": "stream",
     "name": "stdout",
     "text": [
      "1175\n"
     ]
    },
    {
     "output_type": "execute_result",
     "data": {
      "text/plain": [
       "                                signal\n",
       "uniqueID                              \n",
       "00:A6:CA:55:D9:20__01.Oost.330     -78\n",
       "00:A6:CA:66:AF:B0__01.Oost.330     -74\n",
       "00:A6:CA:61:F6:00__01.Oost.330     -77\n",
       "00:A6:CA:66:AC:D0__01.Oost.330     -72\n",
       "00:A6:CA:44:70:70__01.Oost.330     -74\n",
       "...                                ...\n",
       "00:3A:7D:34:7B:40__Z               -44\n",
       "00:3A:7D:34:E5:E0__Z               -69\n",
       "00:3A:7D:21:46:20__Z               -55\n",
       "84:3D:C6:B9:2A:90__Z               -71\n",
       "00:3A:7D:12:43:D0__Z               -60\n",
       "\n",
       "[238537 rows x 1 columns]"
      ],
      "text/html": "<div>\n<style scoped>\n    .dataframe tbody tr th:only-of-type {\n        vertical-align: middle;\n    }\n\n    .dataframe tbody tr th {\n        vertical-align: top;\n    }\n\n    .dataframe thead th {\n        text-align: right;\n    }\n</style>\n<table border=\"1\" class=\"dataframe\">\n  <thead>\n    <tr style=\"text-align: right;\">\n      <th></th>\n      <th>signal</th>\n    </tr>\n    <tr>\n      <th>uniqueID</th>\n      <th></th>\n    </tr>\n  </thead>\n  <tbody>\n    <tr>\n      <th>00:A6:CA:55:D9:20__01.Oost.330</th>\n      <td>-78</td>\n    </tr>\n    <tr>\n      <th>00:A6:CA:66:AF:B0__01.Oost.330</th>\n      <td>-74</td>\n    </tr>\n    <tr>\n      <th>00:A6:CA:61:F6:00__01.Oost.330</th>\n      <td>-77</td>\n    </tr>\n    <tr>\n      <th>00:A6:CA:66:AC:D0__01.Oost.330</th>\n      <td>-72</td>\n    </tr>\n    <tr>\n      <th>00:A6:CA:44:70:70__01.Oost.330</th>\n      <td>-74</td>\n    </tr>\n    <tr>\n      <th>...</th>\n      <td>...</td>\n    </tr>\n    <tr>\n      <th>00:3A:7D:34:7B:40__Z</th>\n      <td>-44</td>\n    </tr>\n    <tr>\n      <th>00:3A:7D:34:E5:E0__Z</th>\n      <td>-69</td>\n    </tr>\n    <tr>\n      <th>00:3A:7D:21:46:20__Z</th>\n      <td>-55</td>\n    </tr>\n    <tr>\n      <th>84:3D:C6:B9:2A:90__Z</th>\n      <td>-71</td>\n    </tr>\n    <tr>\n      <th>00:3A:7D:12:43:D0__Z</th>\n      <td>-60</td>\n    </tr>\n  </tbody>\n</table>\n<p>238537 rows × 1 columns</p>\n</div>"
     },
     "metadata": {},
     "execution_count": 83
    }
   ],
   "source": [
    "studydf = eduroam_df.drop(['time','vendor','access_pt','idk','idk_2','freq','station_info','specs'], axis=1)\n",
    "studydf['uniqueID'] = studydf['macID']+'__'+studydf['room']\n",
    "studydf.drop(['macID','room'], axis=1, inplace=True)\n",
    "studydf.set_index('uniqueID', inplace=True)\n",
    "studydf.signal = pd.to_numeric(studydf.signal)\n",
    "print(len(studydf.index.unique()))\n",
    "studydf\n"
   ]
  },
  {
   "cell_type": "code",
   "execution_count": 85,
   "metadata": {},
   "outputs": [
    {
     "output_type": "execute_result",
     "data": {
      "text/plain": [
       "                                signal\n",
       "uniqueID                              \n",
       "00:A6:CA:55:D9:20__01.Oost.330     -78\n",
       "00:A6:CA:66:AF:B0__01.Oost.330     -74\n",
       "00:A6:CA:61:F6:00__01.Oost.330     -77\n",
       "00:A6:CA:66:AC:D0__01.Oost.330     -72\n",
       "00:A6:CA:44:70:70__01.Oost.330     -74\n",
       "...                                ...\n",
       "00:3A:7D:34:7B:40__Z               -44\n",
       "00:3A:7D:34:E5:E0__Z               -69\n",
       "00:3A:7D:21:46:20__Z               -55\n",
       "84:3D:C6:B9:2A:90__Z               -71\n",
       "00:3A:7D:12:43:D0__Z               -60\n",
       "\n",
       "[238537 rows x 1 columns]"
      ],
      "text/html": "<div>\n<style scoped>\n    .dataframe tbody tr th:only-of-type {\n        vertical-align: middle;\n    }\n\n    .dataframe tbody tr th {\n        vertical-align: top;\n    }\n\n    .dataframe thead th {\n        text-align: right;\n    }\n</style>\n<table border=\"1\" class=\"dataframe\">\n  <thead>\n    <tr style=\"text-align: right;\">\n      <th></th>\n      <th>signal</th>\n    </tr>\n    <tr>\n      <th>uniqueID</th>\n      <th></th>\n    </tr>\n  </thead>\n  <tbody>\n    <tr>\n      <th>00:A6:CA:55:D9:20__01.Oost.330</th>\n      <td>-78</td>\n    </tr>\n    <tr>\n      <th>00:A6:CA:66:AF:B0__01.Oost.330</th>\n      <td>-74</td>\n    </tr>\n    <tr>\n      <th>00:A6:CA:61:F6:00__01.Oost.330</th>\n      <td>-77</td>\n    </tr>\n    <tr>\n      <th>00:A6:CA:66:AC:D0__01.Oost.330</th>\n      <td>-72</td>\n    </tr>\n    <tr>\n      <th>00:A6:CA:44:70:70__01.Oost.330</th>\n      <td>-74</td>\n    </tr>\n    <tr>\n      <th>...</th>\n      <td>...</td>\n    </tr>\n    <tr>\n      <th>00:3A:7D:34:7B:40__Z</th>\n      <td>-44</td>\n    </tr>\n    <tr>\n      <th>00:3A:7D:34:E5:E0__Z</th>\n      <td>-69</td>\n    </tr>\n    <tr>\n      <th>00:3A:7D:21:46:20__Z</th>\n      <td>-55</td>\n    </tr>\n    <tr>\n      <th>84:3D:C6:B9:2A:90__Z</th>\n      <td>-71</td>\n    </tr>\n    <tr>\n      <th>00:3A:7D:12:43:D0__Z</th>\n      <td>-60</td>\n    </tr>\n  </tbody>\n</table>\n<p>238537 rows × 1 columns</p>\n</div>"
     },
     "metadata": {},
     "execution_count": 85
    }
   ],
   "source": [
    "studydf.groupby('uniqueID').mean()\n",
    "\n",
    "studydf"
   ]
  }
 ]
}